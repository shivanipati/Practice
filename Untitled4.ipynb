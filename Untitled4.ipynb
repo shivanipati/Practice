{
 "cells": [
  {
   "cell_type": "code",
   "execution_count": 1,
   "id": "b1d0f0c2",
   "metadata": {},
   "outputs": [
    {
     "name": "stdout",
     "output_type": "stream",
     "text": [
      "printing the first element matrix\n",
      "[[1 2]\n",
      " [3 4]]\n",
      "printing the second element matrix\n",
      "[[5 6]\n",
      " [7 8]]\n",
      "the sum of first and second matrix\n",
      "[[ 6  8]\n",
      " [10 12]]\n"
     ]
    }
   ],
   "source": [
    "import numpy as np\n",
    "\n",
    "A = np.array([[1,2],[3,4]])\n",
    "B = np.array([[5,6],[7,8]])\n",
    "\n",
    "print(\"printing the first element matrix\")\n",
    "print(A)\n",
    "\n",
    "print(\"printing the second element matrix\")\n",
    "\n",
    "print(B)\n",
    "\n",
    "print(\"the sum of first and second matrix\")\n",
    "\n",
    "print(np.add(A,B))"
   ]
  }
 ],
 "metadata": {
  "kernelspec": {
   "display_name": "Python 3 (ipykernel)",
   "language": "python",
   "name": "python3"
  },
  "language_info": {
   "codemirror_mode": {
    "name": "ipython",
    "version": 3
   },
   "file_extension": ".py",
   "mimetype": "text/x-python",
   "name": "python",
   "nbconvert_exporter": "python",
   "pygments_lexer": "ipython3",
   "version": "3.11.3"
  }
 },
 "nbformat": 4,
 "nbformat_minor": 5
}
